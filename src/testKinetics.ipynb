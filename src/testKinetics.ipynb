{
 "cells": [
  {
   "cell_type": "code",
   "execution_count": 3,
   "metadata": {},
   "outputs": [],
   "source": [
    "def slide_window(x, y, windowsize):\n",
    "    datasize = x.shape[0] - windowsize + 1\n",
    "    data = np.zeros([datasize, windowsize, x.shape[1]])\n",
    "    label = np.zeros([datasize, windowsize, y.shape[1]])\n",
    "    for i in range(0, datasize):\n",
    "        temp = x[i:i+windowsize, :]\n",
    "        data[i,:,:] = temp\n",
    "        temp2 = y[i:i+windowsize, :]\n",
    "        label[i,:,:] = temp2\n",
    "    return data, label"
   ]
  },
  {
   "cell_type": "code",
   "execution_count": 2,
   "metadata": {},
   "outputs": [],
   "source": [
    "# Predicted model training file\n",
    "\n",
    "import numpy as np\n",
    "import torch\n",
    "import matplotlib.pyplot as plt\n",
    "from PredictionModel import LSTM, device, LSTM2, LSTM3, ANN, GCN, normalize_sparse_adj\n",
    "from tkinter import Variable\n",
    "from Kinetics import cstr_cascading_kinetics\n",
    "# parameters setting\n",
    "Ea  = 50000     # activation energy J/gmol\n",
    "R   = 8.314     # gas constant J/gmol/K\n",
    "k0  = 8.46e6    # Arrhenius rate constant 1/min\n",
    "V   = 1         # Volume [m3]\n",
    "rho = 1000.0    # Density [kg/m3]\n",
    "Cp  = 0.231     # Heat capacity [kJ/kg/K]\n",
    "dHr = -1.15e4   # Enthalpy of reaction [kJ/kmol]\n",
    "q   = 5.0       # Flowrate [m3/h]\n",
    "cAi = 1.0       # Inlet feed concentration [mol/L]\n",
    "Ti  = 350.0     # Inlet feed temperature [K]\n",
    "cA0 = 0.5      # Initial concentration [mol/L]\n",
    "T10 = 300    # Initial temperature of tank 1 [K]\n",
    "T20 = 300     # Initial temperature of tank 2 [K]\n",
    "kinetic1 = cstr_cascading_kinetics( Ea, R, k0, V, rho, Cp, dHr, q, Ti, cA0, T10, T20)\n",
    "\n",
    "eps = 1e-50\n",
    "trainRate = 0.7\n",
    "valRate = 0.2\n",
    "testRate = 0.\n",
    "# generate data\n",
    "#????????????????????\n",
    "# data preprocess\n",
    "windowsize = 5     \n",
    "\n",
    "# read data\n",
    "inputData = np.load(\"../data/windows/sontag/StateTraininputRecord_rand.npy\")\n",
    "outputData = np.load(\"../data/windows/sontag/StateTrainoutputRecord_state_rand.npy\")\n",
    "# inputData = np.load(\"data/windows/inputRecord.npy\")\n",
    "# outputData = np.load(\"data/windows/outputRecord_variation.npy\")\n",
    "# outputData_state = np.load(\"data/windows/outputRecord_state.npy\")\n",
    "\n",
    "# 归一化操作\n",
    "#     X_std = (X - X.min(axis=0)) / (X.max(axis=0) - X.min(axis=0))\n",
    "#\n",
    "minInputValue = inputData.min(axis=1).min(axis=0)\n",
    "maxInputValue = inputData.max(axis=1).max(axis=0)\n",
    "minOutputValue = outputData.min(axis=1).min(axis=0)\n",
    "maxOutputValue = outputData.max(axis=1).max(axis=0)\n",
    "\n",
    "# 做归一化\n",
    "inputData = (inputData - minInputValue) / (maxInputValue - minInputValue + eps)\n",
    "outputData = (outputData - minOutputValue) / (maxOutputValue - minOutputValue + eps)\n",
    "\n",
    "inputData = torch.Tensor(inputData).to(device)\n",
    "outputData = torch.Tensor(outputData).to(device)\n",
    "\n",
    "batchSize = 256\n",
    "dataGroup = int(inputData.shape[0] / batchSize)\n",
    "features = inputData.shape[2]\n",
    "outputFeature = outputData.shape[2]\n",
    "inputDataUse = torch.Tensor(np.zeros([dataGroup, batchSize, windowsize, features])).to(device)\n",
    "outputDataUse = torch.Tensor(np.zeros([dataGroup, batchSize, outputFeature])).to(device)\n",
    "\n",
    "for i in range(dataGroup):\n",
    "    inputDataUse[i,:,:,:] = inputData[256*i:256*(i+1),:,:]\n",
    "    outputDataUse[i,:,:] = outputData[256*i:256*(i+1),-1,:]\n",
    "\n",
    "trainSizeNum = int(trainRate * dataGroup)\n",
    "valSizeNum = int((trainRate+valRate) * dataGroup)\n",
    "\n",
    "trainData = inputDataUse[0:trainSizeNum, :,:,:]\n",
    "trainLable = outputDataUse[0:trainSizeNum, :,:]\n",
    "\n",
    "valData = inputDataUse[trainSizeNum:valSizeNum, :,:,:]\n",
    "valLabel = outputDataUse[trainSizeNum:valSizeNum, :,:]\n",
    "\n",
    "testData = inputDataUse[valSizeNum:, :,:,:]\n",
    "testLabel = outputDataUse[valSizeNum:, :,:]\n",
    "\n",
    "## Train parameters\n",
    "systemStateSize = features - 4\n",
    "systemInput = 4\n",
    "fullState = features + 1 # 多一个噪声项\n",
    "hiddenSize = 64 # lstm 隐层个数\n",
    "numlayer = 1    # lstm 层数\n",
    "outputNum = outputFeature # 系统输出 - 状态量\n",
    "\n",
    "num_epochs = 100\n",
    "learning_rate = 0.001"
   ]
  },
  {
   "cell_type": "code",
   "execution_count": 17,
   "metadata": {},
   "outputs": [
    {
     "name": "stdout",
     "output_type": "stream",
     "text": [
      "torch.Size([1000, 256, 5, 10])\n"
     ]
    }
   ],
   "source": [
    "from scipy import sparse\n",
    "adj = np.array([[0,1,0,0,0,0,1,0,0,0],\n",
    "                [1,0,0,0,0,0,0,1,0,0],\n",
    "                [1,1,0,0,0,0,0,0,0,0],\n",
    "                [1,0,0,0,1,0,0,0,1,0],\n",
    "                [0,1,0,1,0,0,0,0,0,1],\n",
    "                [0,0,1,1,1,0,0,0,0,0],\n",
    "                [0,0,0,0,0,0,0,0,0,0],\n",
    "                [0,0,0,0,0,0,0,0,0,0],\n",
    "                [0,0,0,0,0,0,0,0,0,0],\n",
    "                [0,0,0,0,0,0,0,0,0,0]])\n",
    "adj = sparse.csc_matrix(adj)\n",
    "adj = normalize_sparse_adj(adj)\n",
    "\n",
    "adj = torch.Tensor(adj.todense()).to(device)\n",
    "print(inputDataUse.shape)"
   ]
  },
  {
   "cell_type": "code",
   "execution_count": 27,
   "metadata": {},
   "outputs": [
    {
     "name": "stdout",
     "output_type": "stream",
     "text": [
      "torch.Size([10, 10])\n",
      "torch.Size([256, 10, 5])\n",
      "torch.Size([256, 5, 10])\n"
     ]
    }
   ],
   "source": [
    "print(adj.shape)\n",
    "a = trainData[1,:,:,:]\n",
    "a = a.view(a.shape[0], a.shape[-1], a.shape[1])\n",
    "\n",
    "b = trainData[1,:,:,:]\n",
    "\n",
    "c = torch.matmul(b,adj)\n",
    "print(c.shape)\n",
    "# d = torch.matmul(c, a)\n",
    "\n"
   ]
  },
  {
   "cell_type": "code",
   "execution_count": 2,
   "metadata": {},
   "outputs": [
    {
     "name": "stdout",
     "output_type": "stream",
     "text": [
      "[[0.49644762 0.34447364 0.5750177 ]\n",
      " [0.95102878 0.720702   0.95301651]\n",
      " [0.5365658  0.986983   0.12954661]]\n",
      "[0.95102878 0.5365658 ]\n"
     ]
    }
   ],
   "source": [
    "import numpy as np\n",
    "a = np.random.rand(3,3)\n",
    "print(a)\n",
    "print(a[-2:,-3])"
   ]
  }
 ],
 "metadata": {
  "interpreter": {
   "hash": "d12be632b8d5da1bd0747054b8b6eb7110711e8a2bcb033ab0a3a84489b8b795"
  },
  "kernelspec": {
   "display_name": "Python 3.8.8 ('zhangyichi2')",
   "language": "python",
   "name": "python3"
  },
  "language_info": {
   "codemirror_mode": {
    "name": "ipython",
    "version": 3
   },
   "file_extension": ".py",
   "mimetype": "text/x-python",
   "name": "python",
   "nbconvert_exporter": "python",
   "pygments_lexer": "ipython3",
   "version": "3.8.8"
  },
  "orig_nbformat": 4
 },
 "nbformat": 4,
 "nbformat_minor": 2
}
